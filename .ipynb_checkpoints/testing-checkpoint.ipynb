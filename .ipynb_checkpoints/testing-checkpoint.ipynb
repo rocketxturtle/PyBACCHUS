{
 "cells": [
  {
   "cell_type": "code",
   "execution_count": null,
   "id": "65edf951-5cc0-4b8f-b5d8-1731b21fa189",
   "metadata": {},
   "outputs": [],
   "source": []
  },
  {
   "cell_type": "code",
   "execution_count": 1,
   "id": "e53858c3-6341-4390-97bc-456b96e8bf96",
   "metadata": {},
   "outputs": [],
   "source": [
    "\n",
    "from astropy import *\n",
    "import astropy.units as u\n",
    "from astropy.io import fits\n",
    "import numpy as np\n",
    "# import glob as glob\n",
    "import pandas as pd\n",
    "from astropy.table import Table,vstack,hstack\n",
    "from astropy.io import ascii\n",
    "import random\n",
    "import warnings\n",
    "\n",
    "import math\n",
    "import numpy as np\n",
    "import matplotlib.pyplot as plt\n",
    "from astropy.table import Table\n",
    "import glob\n",
    "import subprocess\n",
    "import os\n",
    "\n",
    "from Star import Star\n",
    "from init_com import Init\n",
    "from BACCHUS import BACCHUS\n",
    "from elements_wln import *\n",
    "from stellar_parameters import *\n",
    "from bsyn_com import *\n",
    "from eqwidt_com import *\n",
    "from linelists import *\n",
    "\n",
    "from helper_methods import *"
   ]
  },
  {
   "cell_type": "code",
   "execution_count": 2,
   "id": "8b3416bb-2ded-4894-bd80-08f200063064",
   "metadata": {
    "scrolled": true
   },
   "outputs": [],
   "source": [
    "bpath = '/uufs/chpc.utah.edu/common/home/astro/zasowski/sinha/bacchus_files/b_0/'\n",
    "bacchus = BACCHUS(bpath)"
   ]
  },
  {
   "cell_type": "code",
   "execution_count": 3,
   "id": "bc3948c8-c272-48c2-907a-1c2e8c1b0e81",
   "metadata": {},
   "outputs": [],
   "source": [
    "data = np.loadtxt('/uufs/chpc.utah.edu/common/home/astro/zasowski/sinha/spectra/sdss_id_77512956.txt')\n",
    "galah_star = Star('sdss_id_77512956',data[:,0],data[:,1])\n",
    "galah_star.teff = 0\n",
    "galah_star.logg = 0\n",
    "galah_star.m_h = 0\n",
    "galah_star.vmicro = 0\n",
    "galah_star.conv = 0\n",
    "galah_star.get_spectrum_path('/uufs/chpc.utah.edu/common/home/astro/zasowski/sinha/spectra/sdss_id_77512956.txt')"
   ]
  },
  {
   "cell_type": "code",
   "execution_count": 7,
   "id": "35954ac0-3cc2-4bc6-8e29-594bf0e15891",
   "metadata": {
    "scrolled": true
   },
   "outputs": [
    {
     "name": "stdout",
     "output_type": "stream",
     "text": [
      "0, # starname                  obsfile               Teff   logg    [Fe/H] microt   convol  rv\n",
      "\n",
      "1, Sun     \texamples/Sun-rv.asc     \t5777\t4.44\t0.00\t1.1\t-4\t0\n",
      "\n",
      "2, Arcturus \texamples/Arcturus-rv.asc\t4277\t1.58\t-0.55\t0\t-5.2\t0\n",
      "\n",
      "3, HD38230 \t/mnt/Primary/astroHome/nmyers/data/tba/keck/jan/standards/HD38230_all_2024-02-25.2.txt\t5118\t4.47\t-0.09\t0.69\t-4\t0\n",
      "\n"
     ]
    }
   ],
   "source": [
    "bacchus.stellar_parameters.remove_star(galah_star)\n",
    "bacchus.show_module('stellar_parameters.tab')\n",
    "print('####')\n",
    "bacchus.stellar_parameters.add_star(galah_star)"
   ]
  },
  {
   "cell_type": "code",
   "execution_count": null,
   "id": "9367c56d-2a9c-407c-8c2b-1986927cd1e2",
   "metadata": {
    "scrolled": true
   },
   "outputs": [],
   "source": [
    "with open(bpath + 'stellar_parameters.tab') as file:\n",
    "    lines = np.array(file.readlines())\n",
    "    name,spectra_location,teff,logg,met,vmicro,conv= [],[],[],[],[],[],[]\n",
    "    for i in lines[1:]:\n",
    "        array = i.split('\\t')\n",
    "        array = list(filter(('').__ne__, array))\n",
    "\n",
    "        name.append(array[0])\n",
    "        spectra_location.append(array[1])\n",
    "        teff.append(array[2])\n",
    "        logg.append(array[3])\n",
    "        met.append(array[4])\n",
    "        vmicro.append(array[5])\n",
    "        conv.append(array[6].replace('\\n',''))\n",
    "    data = [name,spectra_location,teff,logg,met,vmicro,conv]\n",
    "    stellar_params = {'star_name':name,'spectrum_location': spectra_location, 'teff': teff, 'logg': logg, 'm_h': met, 'v_micro': vmicro, 'convolution': conv}\n",
    "    df = pd.DataFrame(stellar_params)\n",
    "\n",
    "df.loc[len(df)] = ['test','t/t/t/t',100,4,0.0,1.4,-5]\n",
    "print('# starname                  obsfile               Teff   logg    [Fe/H] microt   convol  rv\\n')\n",
    "output = []\n",
    "for i in range(len(df['star_name'])):\n",
    "    output = \"{}\\t{}\\t{}\\t{}\\t{}\\t{}\\t{}\\t{}\\n\".format(df.loc[i,'star_name'],df.loc[i,'spectrum_location'],df.loc[i,'teff'],\n",
    "                                                      df.loc[i,'logg'],df.loc[i,'m_h'],df.loc[i,'v_micro'],df.loc[i,'convolution'],0)\n",
    "    print(output)\n",
    "    # output = str(df.loc[i,'star_name']) + \"\\t\" + str(df.loc[i,'spectrum_location']) + \"\\t\" + str(df.loc[i,'teff'])  + \"\\t\" + str(df.loc[i,'logg']) + \"\\t\" + str(df.loc[i,'m_h']) + \"\\t\" + str(df.loc[i,'v_micro']) + \"\\t\" + str(df.loc[i,'convolution']) + \"\\t\" + str(0) + \"\\n\"\n",
    "    # display(output)\n",
    "    "
   ]
  },
  {
   "cell_type": "code",
   "execution_count": null,
   "id": "d3412128-474a-401a-a348-4aa9d1475244",
   "metadata": {
    "scrolled": true
   },
   "outputs": [],
   "source": [
    " elements = {\n",
    "    1: \"H\", 2: \"He\", 3: \"Li\", 4: \"Be\", 5: \"B\", 6: \"C\", 7: \"N\", 8: \"O\", 9: \"F\", 10: \"Ne\",\n",
    "    11: \"Na\", 12: \"Mg\", 13: \"Al\", 14: \"Si\", 15: \"P\", 16: \"S\", 17: \"Cl\", 18: \"Ar\", 19: \"K\", 20: \"Ca\",\n",
    "    21: \"Sc\", 22: \"Ti\", 23: \"V\", 24: \"Cr\", 25: \"Mn\", 26: \"Fe\", 27: \"Co\", 28: \"Ni\", 29: \"Cu\", 30: \"Zn\",\n",
    "    31: \"Ga\", 32: \"Ge\", 33: \"As\", 34: \"Se\", 35: \"Br\", 36: \"Kr\", 37: \"Rb\", 38: \"Sr\", 39: \"Y\", 40: \"Zr\",\n",
    "    41: \"Nb\", 42: \"Mo\", 43: \"Tc\", 44: \"Ru\", 45: \"Rh\", 46: \"Pd\", 47: \"Ag\", 48: \"Cd\", 49: \"In\", 50: \"Sn\",\n",
    "    51: \"Sb\", 52: \"Te\", 53: \"I\", 54: \"Xe\", 55: \"Cs\", 56: \"Ba\", 57: \"La\", 58: \"Ce\", 59: \"Pr\", 60: \"Nd\",\n",
    "    61: \"Pm\", 62: \"Sm\", 63: \"Eu\", 64: \"Gd\", 65: \"Tb\", 66: \"Dy\", 67: \"Ho\", 68: \"Er\", 69: \"Tm\", 70: \"Yb\",\n",
    "    71: \"Lu\", 72: \"Hf\", 73: \"Ta\", 74: \"W\", 75: \"Re\", 76: \"Os\", 77: \"Ir\", 78: \"Pt\", 79: \"Au\", 80: \"Hg\",\n",
    "    81: \"Tl\", 82: \"Pb\", 83: \"Bi\", 84: \"Po\", 85: \"At\", 86: \"Rn\", 87: \"Fr\", 88: \"Ra\", 89: \"Ac\", 90: \"Th\",\n",
    "    91: \"Pa\", 92: \"U\"\n",
    "            \n",
    "}\n",
    "\n",
    "atomic_numbers = np.arange(1,93,1)\n",
    "atomic_symbols = []\n",
    "for i in atomic_numbers:\n",
    "    atomic_symbols.append(elements[i])\n",
    "atomic_symbols = ['H','He','Li','Be','B','C','N','O','F','Ne','Na','Mg','Al',\n",
    " 'Si','P','S','Cl','Ar','K','Ca','Sc','Ti','V','Cr','Mn','Fe',\n",
    " 'Co','Ni','Cu','Zn','Ga','Ge','As','Se','Br','Kr','Rb','Sr','Y',\n",
    " 'Zr','Nb','Mo','Tc','Ru','Rh','Pd','Ag','Cd','In','Sn','Sb','Te',\n",
    " 'I','Xe','Cs','Ba','La','Ce','Pr','Nd','Pm','Sm','Eu','Gd','Tb',\n",
    " 'Dy','Ho','Er','Tm','Yb','Lu','Hf','Ta','W','Re','Os','Ir','Pt',\n",
    " 'Au','Hg','Tl','Pb','Bi','Po','At','Rn','Fr','Ra','Ac','Th','Pa',\n",
    " 'U']\n",
    "\n",
    "x = dict()\n",
    "x['Atomic_number'] = atomic_numbers\n",
    "x['Atomic_symbol'] = atomic_symbols\n",
    "# x['N_lines'] = 0\n",
    "# x['Lines'] = None\n",
    "df = pd.DataFrame(x)\n",
    "\n",
    "\n",
    "def get_windows(element):\n",
    "    with open('/uufs/chpc.utah.edu/common/home/astro/zasowski/sinha/bacchus_files/b_0/' + \"elements.wln\") as file:\n",
    "        init = file.readlines()\n",
    "        for i in init:\n",
    "            array = i.split(' ')\n",
    "            array = list(filter(lambda a: a != '', array))\n",
    "            try:\n",
    "                if array[1]==element or array[0]==element:\n",
    "                    windows = []\n",
    "                    for j in array[2:len(array)]:\n",
    "                        if j != '' and j != '\\n':\n",
    "                            windows.append(np.round(float(j),1))\n",
    "                    return windows\n",
    "            except:\n",
    "                pass\n",
    "\n",
    "alllines = []\n",
    "nlines_used = []\n",
    "for i in df['Atomic_symbol']:\n",
    "    lines = get_windows(i)\n",
    "    try:\n",
    "        nlines_used.append(len(lines))\n",
    "        alllines.append(lines)\n",
    "    except:\n",
    "        nlines_used.append(0)\n",
    "        alllines.append(None)\n",
    "        \n",
    "df['N_Lines'] = nlines_used\n",
    "df['Lines'] = alllines\n",
    "\n",
    "output = []\n",
    "for count, i in enumerate(df['Atomic_symbol']):\n",
    "    if (df.loc[count,'Lines'] == None) == False:\n",
    "        # print(count, i, df.loc[count,'Lines'])\n",
    "        string = '{} {} '.format(df.loc[count,'Atomic_number'], df.loc[count,'Atomic_symbol'])\n",
    "        for j in df.loc[count,'Lines']:\n",
    "            string = string + '{} '.format(j)\n",
    "        string = string + '\\n'\n",
    "        output.append(string)\n",
    "\n",
    "with open('/uufs/chpc.utah.edu/common/home/astro/zasowski/sinha/bacchus_files/b_0/' + \"elements_1.wln\", \"w\") as file:\n",
    "    file.writelines(output)\n",
    "file.close()"
   ]
  },
  {
   "cell_type": "code",
   "execution_count": null,
   "id": "8c3a077e-526e-4d63-98ce-82fc6408e30a",
   "metadata": {
    "scrolled": true
   },
   "outputs": [],
   "source": [
    "# # # bacchus.Init.ncpu(500)\n",
    "# print( 'x   ' + bacchus.init.turbo_path)\n",
    "# # bacchus.Init.set_ncpu(10)\n",
    "bacchus.show_module('t.wln')"
   ]
  },
  {
   "cell_type": "code",
   "execution_count": null,
   "id": "85974e8e-b43f-467a-b4d6-50e07b71833d",
   "metadata": {},
   "outputs": [],
   "source": [
    "def get_linenumber(fpath, target):\n",
    "    line_number = -99\n",
    "    with open(fpath) as file:\n",
    "        f = file.readlines()\n",
    "        for count,line in enumerate(f):\n",
    "            line_text = line.split(' ')\n",
    "            if len(line_text) > 1:\n",
    "                if line_text[1] == target:\n",
    "                    line_number = count\n",
    "        file.close()\n",
    "    if line_number > -1:\n",
    "        return line_number\n",
    "    else:\n",
    "        print(\"couldn't find target!!!!\")\n",
    "        return line_number"
   ]
  },
  {
   "cell_type": "code",
   "execution_count": null,
   "id": "52e0a227-30e8-4809-acd3-fa082ee5bcf3",
   "metadata": {
    "scrolled": true
   },
   "outputs": [],
   "source": [
    "cpu_count = os.cpu_count()\n",
    "\n",
    "cpath = '/uufs/chpc.utah.edu/common/home/astro/zasowski/sinha/bacchus_files/b_0' + '/init.com'\n",
    "get_linenumber(cpath, 'reset')\n",
    "# new_elements_wln = []\n",
    "\n",
    "# line_number = -99\n",
    "# with open(command_path) as file:\n",
    "#     elements_wln = file.readlines()\n",
    "#     for count,line in enumerate(elements_wln):\n",
    "#         line_text = line.split(' ')\n",
    "#         if len(line_text) > 1:\n",
    "#             if line_text[1] == 'ncpu':\n",
    "#                 line_number = count\n",
    "#     file.close()\n",
    "\n",
    "# string = 'set ncpu = {}\\n'.format(16)\n",
    "# bacchus.edit_module('init.com',line_number,string)\n",
    "\n",
    "# bacchus.show_module('init.com')"
   ]
  },
  {
   "cell_type": "code",
   "execution_count": null,
   "id": "72890d1b-827e-44cb-a584-61ecba3bc3bd",
   "metadata": {
    "scrolled": true
   },
   "outputs": [],
   "source": [
    "# # bacchus.show_module('test.com')\n",
    "# linenumber = 102\n",
    "# # for i in range(len(temp)):\n",
    "# bacchus.edit_module('bsyn.com',102,string)"
   ]
  },
  {
   "cell_type": "code",
   "execution_count": null,
   "id": "a23e5de2-7719-43d7-82a9-910f64438ac4",
   "metadata": {
    "scrolled": true
   },
   "outputs": [],
   "source": [
    "# bacchus.show_module('bsyn.com')\n",
    "\n",
    "# sdss_id_77512956"
   ]
  },
  {
   "cell_type": "code",
   "execution_count": null,
   "id": "256a43cb-5933-4771-9bd2-94d436d348b5",
   "metadata": {},
   "outputs": [],
   "source": []
  },
  {
   "cell_type": "code",
   "execution_count": null,
   "id": "fb511484-4f88-478e-a47e-6113309b597f",
   "metadata": {},
   "outputs": [],
   "source": [
    "bacchus.load_parameters(galah_star)"
   ]
  },
  {
   "cell_type": "code",
   "execution_count": null,
   "id": "9d1f37c6-a971-406f-9bb2-8af101ca29e5",
   "metadata": {},
   "outputs": [],
   "source": [
    "# ! ls /uufs/chpc.utah.edu/common/home/astro/zasowski/sinha/spectra/"
   ]
  },
  {
   "cell_type": "code",
   "execution_count": null,
   "id": "32f3a6c1-7b00-4a32-81a5-eec57aad5162",
   "metadata": {
    "scrolled": true
   },
   "outputs": [],
   "source": [
    "bacchus.abund(galah_star)"
   ]
  },
  {
   "cell_type": "code",
   "execution_count": null,
   "id": "aaec5651-0afc-44a9-b193-5e333885eb32",
   "metadata": {},
   "outputs": [],
   "source": [
    "# bacchus.current_path"
   ]
  },
  {
   "cell_type": "code",
   "execution_count": null,
   "id": "4e4d4647-1f93-4187-afe6-a88cfba31e77",
   "metadata": {},
   "outputs": [],
   "source": [
    "# ! module load gcc/13.1.0"
   ]
  },
  {
   "cell_type": "code",
   "execution_count": null,
   "id": "b3273520-7899-41cf-a95a-239c7a89b4ad",
   "metadata": {},
   "outputs": [],
   "source": []
  }
 ],
 "metadata": {
  "kernelspec": {
   "display_name": "Python 3 (ipykernel)",
   "language": "python",
   "name": "python3"
  },
  "language_info": {
   "codemirror_mode": {
    "name": "ipython",
    "version": 3
   },
   "file_extension": ".py",
   "mimetype": "text/x-python",
   "name": "python",
   "nbconvert_exporter": "python",
   "pygments_lexer": "ipython3",
   "version": "3.12.5"
  }
 },
 "nbformat": 4,
 "nbformat_minor": 5
}
