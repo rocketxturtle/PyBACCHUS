{
 "cells": [
  {
   "cell_type": "code",
   "execution_count": 1,
   "id": "e53858c3-6341-4390-97bc-456b96e8bf96",
   "metadata": {},
   "outputs": [],
   "source": [
    "\n",
    "from astropy import *\n",
    "import astropy.units as u\n",
    "from astropy.io import fits\n",
    "import numpy as np\n",
    "# import glob as glob\n",
    "import pandas as pd\n",
    "from astropy.table import Table,vstack,hstack\n",
    "from astropy.io import ascii\n",
    "import random\n",
    "import warnings\n",
    "\n",
    "import math\n",
    "import numpy as np\n",
    "import matplotlib.pyplot as plt\n",
    "from astropy.table import Table\n",
    "import glob\n",
    "import subprocess\n",
    "import os\n",
    "\n",
    "# from PyBACCHUS import *\n",
    "from Star import Star\n",
    "from init_com import Init\n",
    "from BACCHUS import BACCHUS\n",
    "from elements_wln import *\n",
    "from stellar_parameters import *\n",
    "from bsyn_com import *\n",
    "from eqwidt_com import *\n",
    "from linelists import *\n",
    "from par import *\n",
    "from plt import *\n",
    "\n",
    "from helper_methods import *"
   ]
  },
  {
   "cell_type": "code",
   "execution_count": 2,
   "id": "8b3416bb-2ded-4894-bd80-08f200063064",
   "metadata": {
    "scrolled": true
   },
   "outputs": [],
   "source": [
    "bpath = '/uufs/chpc.utah.edu/common/home/astro/zasowski/sinha/bacchus_files/b_0/'\n",
    "bacchus = BACCHUS(bpath)"
   ]
  },
  {
   "cell_type": "code",
   "execution_count": 3,
   "id": "07886824-8e52-4534-bfe5-080548eabb67",
   "metadata": {},
   "outputs": [
    {
     "name": "stdout",
     "output_type": "stream",
     "text": [
      "entry already added!\n"
     ]
    }
   ],
   "source": [
    "#sdss_id_77510518\n",
    "spectrapath = '/uufs/chpc.utah.edu/common/home/astro/zasowski/sinha/spectra/sdss_id_77513625.txt'\n",
    "star = Star('sdss_id_77512961')\n",
    "star.set_initial_values(spectrapath,6000,4,0,1.5,-15)\n",
    "bacchus.stellar_parameters.add_star(star)"
   ]
  },
  {
   "cell_type": "code",
   "execution_count": 4,
   "id": "a543945c-a6a2-45c0-9a60-05b4d0161e32",
   "metadata": {},
   "outputs": [
    {
     "name": "stderr",
     "output_type": "stream",
     "text": [
      "unsetenv: Missing ']'.\n"
     ]
    },
    {
     "name": "stdout",
     "output_type": "stream",
     "text": [
      "create directory sdss_id_77512961\n",
      "observed spectrum is: /uufs/chpc.utah.edu/common/home/astro/zasowski/sinha/spectra/sdss_id_77513625.txt\n",
      "parameters will be read from stellar_parameters.tab\n",
      "create directory sdss_id_77512961/models\n",
      "stellar parameters selected (Teff,logg,[Fe/H],microturb): 6000 4.00 0.00 1.50\n",
      "create now stellar parameter files for sdss_id_77512961\n",
      "sdss_id_77512961/sdss_id_77512961.par\n"
     ]
    },
    {
     "name": "stderr",
     "output_type": "stream",
     "text": [
      "mv: cannot stat 'interpol_check.ps': No such file or directory\n"
     ]
    }
   ],
   "source": [
    "bacchus.load_parameters(star)\n"
   ]
  },
  {
   "cell_type": "code",
   "execution_count": 6,
   "id": "087ecc38-a7a8-427c-ae4f-437942c27bc5",
   "metadata": {},
   "outputs": [
    {
     "data": {
      "text/plain": [
       "'6000g4.00z0.00_sdss_id_77512961.int'"
      ]
     },
     "execution_count": 6,
     "metadata": {},
     "output_type": "execute_result"
    }
   ],
   "source": [
    "# star.get_par(bpath + 'sdss_id_77512961/')"
   ]
  },
  {
   "cell_type": "code",
   "execution_count": null,
   "id": "bc3948c8-c272-48c2-907a-1c2e8c1b0e81",
   "metadata": {},
   "outputs": [],
   "source": [
    "data = np.loadtxt('/uufs/chpc.utah.edu/common/home/astro/zasowski/sinha/spectra/sdss_id_77513625.txt')\n",
    "galah_star = Star('sdss_id_77513625')\n",
    "galah_star.get_par(bpath + '/sdss/sdss_id_77513625/')\n",
    "\n",
    "galah_star.get_abundance('Fe')\n",
    "x = galah_star.Abundance['Fe'].EQW\n",
    "x.table"
   ]
  },
  {
   "cell_type": "code",
   "execution_count": null,
   "id": "35954ac0-3cc2-4bc6-8e29-594bf0e15891",
   "metadata": {
    "scrolled": true
   },
   "outputs": [],
   "source": [
    "bacchus.stellar_parameters.remove_star(galah_star)\n",
    "bacchus.show_module('stellar_parameters.tab')\n",
    "print('####')\n",
    "bacchus.stellar_parameters.add_star(galah_star)\n",
    "bacchus.show_module('stellar_parameters.tab')"
   ]
  },
  {
   "cell_type": "code",
   "execution_count": null,
   "id": "9367c56d-2a9c-407c-8c2b-1986927cd1e2",
   "metadata": {
    "scrolled": true
   },
   "outputs": [],
   "source": []
  },
  {
   "cell_type": "code",
   "execution_count": null,
   "id": "d3412128-474a-401a-a348-4aa9d1475244",
   "metadata": {
    "scrolled": true
   },
   "outputs": [],
   "source": [
    "#step 1: make a bacchus\n",
    "#step 2: make a star\n",
    "#step 3: set initial guesses for star\n",
    "\n"
   ]
  },
  {
   "cell_type": "code",
   "execution_count": null,
   "id": "8c3a077e-526e-4d63-98ce-82fc6408e30a",
   "metadata": {
    "scrolled": true
   },
   "outputs": [],
   "source": []
  },
  {
   "cell_type": "code",
   "execution_count": null,
   "id": "85974e8e-b43f-467a-b4d6-50e07b71833d",
   "metadata": {},
   "outputs": [],
   "source": []
  },
  {
   "cell_type": "code",
   "execution_count": null,
   "id": "52e0a227-30e8-4809-acd3-fa082ee5bcf3",
   "metadata": {
    "scrolled": true
   },
   "outputs": [],
   "source": []
  },
  {
   "cell_type": "code",
   "execution_count": null,
   "id": "72890d1b-827e-44cb-a584-61ecba3bc3bd",
   "metadata": {
    "scrolled": true
   },
   "outputs": [],
   "source": []
  },
  {
   "cell_type": "code",
   "execution_count": null,
   "id": "a23e5de2-7719-43d7-82a9-910f64438ac4",
   "metadata": {
    "scrolled": true
   },
   "outputs": [],
   "source": []
  },
  {
   "cell_type": "code",
   "execution_count": null,
   "id": "256a43cb-5933-4771-9bd2-94d436d348b5",
   "metadata": {},
   "outputs": [],
   "source": []
  },
  {
   "cell_type": "code",
   "execution_count": null,
   "id": "fb511484-4f88-478e-a47e-6113309b597f",
   "metadata": {},
   "outputs": [],
   "source": [
    "bacchus.load_parameters(galah_star)"
   ]
  },
  {
   "cell_type": "code",
   "execution_count": null,
   "id": "9d1f37c6-a971-406f-9bb2-8af101ca29e5",
   "metadata": {},
   "outputs": [],
   "source": [
    "# ! ls /uufs/chpc.utah.edu/common/home/astro/zasowski/sinha/spectra/"
   ]
  },
  {
   "cell_type": "code",
   "execution_count": null,
   "id": "32f3a6c1-7b00-4a32-81a5-eec57aad5162",
   "metadata": {
    "scrolled": true
   },
   "outputs": [],
   "source": [
    "bacchus.abund(galah_star)"
   ]
  },
  {
   "cell_type": "code",
   "execution_count": null,
   "id": "aaec5651-0afc-44a9-b193-5e333885eb32",
   "metadata": {},
   "outputs": [],
   "source": [
    "# bacchus.current_path"
   ]
  },
  {
   "cell_type": "code",
   "execution_count": null,
   "id": "4e4d4647-1f93-4187-afe6-a88cfba31e77",
   "metadata": {},
   "outputs": [],
   "source": [
    "# ! module load gcc/13.1.0"
   ]
  },
  {
   "cell_type": "code",
   "execution_count": null,
   "id": "b3273520-7899-41cf-a95a-239c7a89b4ad",
   "metadata": {},
   "outputs": [],
   "source": [
    "x = np.array([5,5,5,5])\n",
    "y = np.insert(x, len(x), 10)\n",
    "y"
   ]
  },
  {
   "cell_type": "code",
   "execution_count": null,
   "id": "5300ab48-c15d-41eb-b58e-0eb52550e5e1",
   "metadata": {},
   "outputs": [],
   "source": []
  }
 ],
 "metadata": {
  "kernelspec": {
   "display_name": "Python 3 (ipykernel)",
   "language": "python",
   "name": "python3"
  },
  "language_info": {
   "codemirror_mode": {
    "name": "ipython",
    "version": 3
   },
   "file_extension": ".py",
   "mimetype": "text/x-python",
   "name": "python",
   "nbconvert_exporter": "python",
   "pygments_lexer": "ipython3",
   "version": "3.12.5"
  }
 },
 "nbformat": 4,
 "nbformat_minor": 5
}
