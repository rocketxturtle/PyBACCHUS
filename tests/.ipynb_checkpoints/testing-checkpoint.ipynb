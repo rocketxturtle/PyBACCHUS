{
 "cells": [
  {
   "cell_type": "code",
   "execution_count": 4,
   "id": "e53858c3-6341-4390-97bc-456b96e8bf96",
   "metadata": {},
   "outputs": [
    {
     "ename": "SyntaxError",
     "evalue": "invalid syntax (1965736962.py, line 33)",
     "output_type": "error",
     "traceback": [
      "\u001b[0;36m  Cell \u001b[0;32mIn[4], line 33\u001b[0;36m\u001b[0m\n\u001b[0;31m    from ../PyBACCHUS import *\u001b[0m\n\u001b[0m           ^\u001b[0m\n\u001b[0;31mSyntaxError\u001b[0m\u001b[0;31m:\u001b[0m invalid syntax\n"
     ]
    }
   ],
   "source": [
    "\n",
    "from astropy import *\n",
    "import astropy.units as u\n",
    "from astropy.io import fits\n",
    "import numpy as np\n",
    "# import glob as glob\n",
    "import pandas as pd\n",
    "from astropy.table import Table,vstack,hstack\n",
    "from astropy.io import ascii\n",
    "import random\n",
    "import warnings\n",
    "\n",
    "import math\n",
    "import numpy as np\n",
    "import matplotlib.pyplot as plt\n",
    "from astropy.table import Table\n",
    "import glob\n",
    "import subprocess\n",
    "import os\n",
    "\n",
    "# from PyBACCHUS import *\n",
    "# from Star import Star\n",
    "# from init_com import Init\n",
    "# from BACCHUS import BACCHUS\n",
    "# from elements_wln import *\n",
    "# from stellar_parameters import *\n",
    "# from bsyn_com import *\n",
    "# from eqwidt_com import *\n",
    "# from linelists import *\n",
    "# from par import *\n",
    "# from plt import *\n",
    "\n",
    "# from helper_methods import *\n",
    "from PyBACCHUS import *"
   ]
  },
  {
   "cell_type": "code",
   "execution_count": 3,
   "id": "7f78081c-f92e-4593-aa05-4ced933aa9b3",
   "metadata": {},
   "outputs": [
    {
     "data": {
      "text/plain": [
       "4"
      ]
     },
     "execution_count": 3,
     "metadata": {},
     "output_type": "execute_result"
    }
   ],
   "source": [
    "x = (4,5)\n",
    "x[0]"
   ]
  },
  {
   "cell_type": "code",
   "execution_count": 4,
   "id": "24e6ecaf-5e32-4cbc-b0a5-60bc19cdd4e7",
   "metadata": {},
   "outputs": [
    {
     "name": "stdout",
     "output_type": "stream",
     "text": [
      "#conv Teff +/- err initTeff conv_Teff  logg +/- err initlogg conv_logg met +/- err  initmet xit +/- err initxit conv_xit\n",
      "\n",
      "1  6100 +/- 77.952 6100 1    4.41 +/- 0.043 4.41 1    0.14 +/- 0.011  0.14     1.72 +/- 0.128 1.72 1\n",
      "\n",
      "1  6100 +/- 77.952 6100 1    4.41 +/- 0.043 4.41 1    0.14 +/- 0.011  0.14     1.72 +/- 0.128 1.72 1\n"
     ]
    }
   ],
   "source": [
    "path = '/uufs/chpc.utah.edu/common/home/astro/zasowski/sinha/bacchus_files/b_0/sdss/sdss_id_77502115/best_parameters.tab'\n",
    "with open(path) as file:\n",
    "    init = file.readlines()\n",
    "    for i in init:\n",
    "        print(i)\n",
    "\n",
    "out = Table.read(path, format='ascii')\n",
    "colnames = ['teff', 'e_teff','initial_teff', 'logg', 'e_logg', 'met', 'e_met', 'inital_met', 'vmicro', 'e_vmicro','inital_vmicro']\n",
    "\n",
    "\n",
    "# colnames = ['lambda','eqw_obs','syn','flag_syn','eqw','flag_eqw',\n",
    "#             'int','flag_int','chi2','flag_chi2','chi2_val','SNR','rvcor','limit_syn','limit_eqw','limit_int']"
   ]
  },
  {
   "cell_type": "code",
   "execution_count": 5,
   "id": "8b3416bb-2ded-4894-bd80-08f200063064",
   "metadata": {
    "scrolled": true
   },
   "outputs": [],
   "source": [
    "bpath = '/uufs/chpc.utah.edu/common/home/astro/zasowski/sinha/bacchus_files/b_0/'\n",
    "bacchus = BACCHUS(bpath)"
   ]
  },
  {
   "cell_type": "code",
   "execution_count": null,
   "id": "65058e3e-6881-4635-bfbd-6fab31117cac",
   "metadata": {},
   "outputs": [],
   "source": [
    "# bacchus.show_module('sdss/sdss_id_77512961/best_parameters.tab')"
   ]
  },
  {
   "cell_type": "code",
   "execution_count": null,
   "id": "07886824-8e52-4534-bfe5-080548eabb67",
   "metadata": {},
   "outputs": [],
   "source": [
    "#sdss_id_77510518\n",
    "spectrapath = '/uufs/chpc.utah.edu/common/home/astro/zasowski/sinha/spectra/sdss_id_77513625.txt'\n",
    "star = Star('sdss_id_77502115')\n",
    "# star.set_initial_values(spectrapath,(6100,77),(4.41,0.1),(0,0.1),(1.5,0.1),(-15,2))\n",
    "# bacchus.stellar_parameters.add_star(star)"
   ]
  },
  {
   "cell_type": "code",
   "execution_count": null,
   "id": "a543945c-a6a2-45c0-9a60-05b4d0161e32",
   "metadata": {},
   "outputs": [],
   "source": [
    "bacchus.load_parameters(star)\n"
   ]
  },
  {
   "cell_type": "code",
   "execution_count": null,
   "id": "087ecc38-a7a8-427c-ae4f-437942c27bc5",
   "metadata": {},
   "outputs": [],
   "source": [
    "# star.get_par(bpath + 'sdss_id_77512961/')\n",
    "#  6100 +/- 77.952 6100 1    4.41 +/- 0.043 4.41 1    0.14 +/- 0.011  0.14     1.72 +/- 0.128 1.72 1\n",
    "# sdss_id_77502115\n",
    "star.make_best_parameters()"
   ]
  },
  {
   "cell_type": "code",
   "execution_count": null,
   "id": "729bbc80-793a-40ca-ad02-c273b1f19d88",
   "metadata": {},
   "outputs": [],
   "source": [
    "bacchus.abund(star, elem='Si')"
   ]
  },
  {
   "cell_type": "code",
   "execution_count": null,
   "id": "bc3948c8-c272-48c2-907a-1c2e8c1b0e81",
   "metadata": {},
   "outputs": [],
   "source": [
    "data = np.loadtxt('/uufs/chpc.utah.edu/common/home/astro/zasowski/sinha/spectra/sdss_id_77513625.txt')\n",
    "galah_star = Star('sdss_id_77513625')\n",
    "galah_star.get_par(bpath + '/sdss/sdss_id_77513625/')\n",
    "\n",
    "galah_star.get_abundance('Fe')\n",
    "x = galah_star.Abundance['Fe'].EQW\n",
    "x.table"
   ]
  }
 ],
 "metadata": {
  "kernelspec": {
   "display_name": "Python 3 (ipykernel)",
   "language": "python",
   "name": "python3"
  },
  "language_info": {
   "codemirror_mode": {
    "name": "ipython",
    "version": 3
   },
   "file_extension": ".py",
   "mimetype": "text/x-python",
   "name": "python",
   "nbconvert_exporter": "python",
   "pygments_lexer": "ipython3",
   "version": "3.12.5"
  }
 },
 "nbformat": 4,
 "nbformat_minor": 5
}
