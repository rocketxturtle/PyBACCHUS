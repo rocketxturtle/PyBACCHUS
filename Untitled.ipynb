{
 "cells": [
  {
   "cell_type": "code",
   "execution_count": 1,
   "id": "c1cb113a-5490-4235-92f9-4071f1acc574",
   "metadata": {},
   "outputs": [],
   "source": [
    "# from PyBACCHUS import *\n",
    "import PyBACCHUS"
   ]
  },
  {
   "cell_type": "code",
   "execution_count": 2,
   "id": "15b00d6f-db9f-45e2-86b0-fe6198d61acd",
   "metadata": {},
   "outputs": [
    {
     "data": {
      "text/plain": [
       "array([[15122.7578125 ,     0.        ,     0.        ],\n",
       "       [15122.96679688,     0.        ,     0.        ],\n",
       "       [15123.17578125,     0.        ,     0.        ],\n",
       "       ...,\n",
       "       [16952.93945312,     0.        ,     0.        ],\n",
       "       [16953.17382812,     0.        ,     0.        ],\n",
       "       [16953.40820312,     0.        ,     0.        ]])"
      ]
     },
     "execution_count": 2,
     "metadata": {},
     "output_type": "execute_result"
    }
   ],
   "source": [
    "from PyBACCHUS.bacchus import BACCHUS\n",
    "from PyBACCHUS.star import Star\n",
    "# from PyBACCHUS.BACCHUS import *\n",
    "starname = 'sdss_id_77512762'\n",
    "bpath = '/uufs/chpc.utah.edu/common/home/astro/zasowski/sinha/bacchus_files/b_0/'\n",
    "spectra_path = '/uufs/chpc.utah.edu/common/home/astro/zasowski/sinha/spectra/sdss_id_77512762.txt'\n",
    "import numpy as np\n",
    "x = np.loadtxt(spectra_path)\n",
    "x"
   ]
  },
  {
   "cell_type": "code",
   "execution_count": 3,
   "id": "e4ced6cb-8732-4399-a6f1-7b8247750eea",
   "metadata": {},
   "outputs": [],
   "source": [
    "bacchus = BACCHUS(bpath)\n",
    "star = Star(starname)"
   ]
  },
  {
   "cell_type": "code",
   "execution_count": 4,
   "id": "9cb98de3-a5e5-4a30-a962-686916b88dd3",
   "metadata": {
    "scrolled": true
   },
   "outputs": [
    {
     "name": "stdout",
     "output_type": "stream",
     "text": [
      "0, \n",
      "\n",
      "1, #turbospectrum path (bsyn_lu babsma_lu eqwidt_lu faltbo)\n",
      "\n",
      "2, set turbo_path = \"Turbo-v15.1/EXPORT-15.1/exec-gf-v15.1\"\n",
      "\n",
      "3, \n",
      "\n",
      "4, #utilities program path (showline interpol_modeles)\n",
      "\n",
      "5, set util_path = \"bin\"\n",
      "\n",
      "6, #interpolation script path\n",
      "\n",
      "7, set interpol_path = \"INTERPOL\"\n",
      "\n",
      "8, #sm special macros file\n",
      "\n",
      "9, set dotsm = \"plots/sm/.sm\"\n",
      "\n",
      "10, \n",
      "\n",
      "11, set solabufile = \"solabu.dat\"\n",
      "\n",
      "12, set wavereffile = 'elements.wln'\n",
      "\n",
      "13, #double quote are important if  the \"*\" needs to be left\n",
      "\n",
      "14, set linelist_ref = \"linelists/GAIA-ESO/v5/ges_atom_hfs-iso_v5_t1.txt_newalternate.bsyn~\"\n",
      "\n",
      "15, set profile_conv = '2'\n",
      "\n",
      "16, set convol_inst = -2.0\n",
      "\n",
      "17, set rv = '0.0'\n",
      "\n",
      "18, set MARCSFILE = .false.\n",
      "\n",
      "19, set SPH = T\n",
      "\n",
      "20, #set other star name for abundance differential analysis; set to nothing or dum name for not running it\n",
      "\n",
      "21, #set diff_star = '3936342581961619584_pair44'\n",
      "\n",
      "22, set diff_star = 'dummy'\n",
      "\n",
      "23, set diff_star_offset = '7.44'\n",
      "\n",
      "24, set eqw_rej = \"0.02\"\n",
      "\n",
      "25, \n",
      "\n",
      "26, if (! $?alpha ) then\n",
      "\n",
      "27, if (`echo $METALLIC | awk '{if ($1 < -1) print \"1\";else print \"0\"}'`) then\n",
      "\n",
      "28, set alpha = 0.4\n",
      "\n",
      "29, else\n",
      "\n",
      "30, if  (`echo $METALLIC | awk '{if ($1 < 0) print \"1\";else print \"0\"}'`) then\n",
      "\n",
      "31, set alpha = `echo \"-0.4 * ${METALLIC}\" | bc -l`\n",
      "\n",
      "32, else\n",
      "\n",
      "33, set alpha = 0.0\n",
      "\n",
      "34, endif\n",
      "\n",
      "35, endif\n",
      "\n",
      "36, endif\n",
      "\n",
      "37, \n",
      "\n",
      "38, if (! $?s_process ) then\n",
      "\n",
      "39, set s_process = 0.0\n",
      "\n",
      "40, endif\n",
      "\n",
      "41, if (! $?r_process ) then\n",
      "\n",
      "42, set r_process = 0.0\n",
      "\n",
      "43, endif\n",
      "\n",
      "44, \n",
      "\n",
      "45, set ncpu = 10\n",
      "\n",
      "46, #synspec.abund options\n",
      "\n",
      "47, set compute = \"1\"\n",
      "\n",
      "48, set reset = \"1\"\n",
      "\n",
      "49, set manual = \"0\"\n",
      "\n",
      "50, set nonorm = \"1\"\n",
      "\n",
      "51, set rvcorrect = \"0\"\n",
      "\n",
      "52, set cleanup = \"1\"\n",
      "\n",
      "53, set debug = \"0\"\n",
      "\n",
      "54, if ($debug) then\n",
      "\n",
      "55, set cleanup = \"0\"\n",
      "\n",
      "56, endif\n",
      "\n",
      "57, \n",
      "\n",
      "58, \n",
      "\n",
      "59, set alllines_list = \"1\"\n",
      "\n",
      "60, set TEFFunknown = \"0\"\n",
      "\n",
      "61, set LOGGunknown = \"0\"\n",
      "\n",
      "62, set METALLICunknown = \"1\"\n",
      "\n",
      "63, set TURBVELunknown = \"0\"\n",
      "\n",
      "64, set CONVOLunknown = \"1\"\n",
      "\n",
      "65, set updateabu = \"1\"\n",
      "\n",
      "66, \n",
      "\n",
      "67, \n",
      "\n",
      "68, \n",
      "\n",
      "69, set norm_Mg = '1.0'\n",
      "\n",
      "70, set norm_Ha = '1.0'\n",
      "\n",
      "71, #Mg triplet\n",
      "\n",
      "72, #set lam_min1    = '5150'\n",
      "\n",
      "73, #set lam_max1    = '5200'\n",
      "\n",
      "74, #echo \"$lam_min1 $lam_max1 /tmp/${star}_obs\" | awk '{print \"awk '\\''{if (($1 > \"$1\") && ($1 < \"$2\")) print $0}'\\''\",$3}' | sh > trim_obs\n",
      "\n",
      "75, #set avr_flux = `awk '{sum=(sum+$2)/2} END {if (sum == 0) print \"0\"; else print \"1\"}' trim_obs`\n",
      "\n",
      "76, #if ($avr_flux == 0) then\n",
      "\n",
      "77, #Giraffe HR10\n",
      "\n",
      "78, #set lam_min1    = '5503'\n",
      "\n",
      "79, #set lam_max1    = '5553'\n",
      "\n",
      "80, #endif\n",
      "\n",
      "81, #echo \"$lam_min1 $lam_max1 /tmp/${star}_obs\" | awk '{print \"awk '\\''{if (($1 > \"$1\") && ($1 < \"$2\")) print $0}'\\''\",$3}' | sh > trim_obs\n",
      "\n",
      "82, #set avr_flux = `awk '{sum=(sum+$2)/2} END {if (sum == 0) print \"0\"; else print \"1\"}' trim_obs`\n",
      "\n",
      "83, #if ($avr_flux == 0) then\n",
      "\n",
      "84, #Ca triplet part 1\n",
      "\n",
      "85, #set lam_min1    = '8473'\n",
      "\n",
      "86, #set lam_max1    = '8523'\n",
      "\n",
      "87, #Ca triplet part 2\n",
      "\n",
      "88, #set lam_min1    = '8517'\n",
      "\n",
      "89, #set lam_max1    = '8567'\n",
      "\n",
      "90, #Ca triplet part 3\n",
      "\n",
      "91, #set lam_min1    = '8637'\n",
      "\n",
      "92, #set lam_max1    = '8687'\n",
      "\n",
      "93, endif\n",
      "\n",
      "94, #echo \"$lam_min1 $lam_max1 /tmp/${star}_obs\" | awk '{print \"awk '\\''{if (($1 > \"$1\") && ($1 < \"$2\")) print $0}'\\''\",$3}' | sh > trim_obs\n",
      "\n",
      "95, #set avr_flux = `awk '{sum=(sum+$2)/2} END {if (sum == 0) print \"0\"; else print \"1\"}' trim_obs`\n",
      "\n",
      "96, #if ($avr_flux == 0) then\n",
      "\n",
      "97, #K I doublet\n",
      "\n",
      "98, set lam_min1    = '7655'\n",
      "\n",
      "99, set lam_max1    = '7710'\n",
      "\n",
      "100, endif\n",
      "\n",
      "101, echo \"$lam_min1 $lam_max1 /tmp/${star}_obs\" | awk '{print \"awk '\\''{if (($1 > \"$1\") && ($1 < \"$2\")) print $0}'\\''\",$3}' | sh > trim_obs\n",
      "\n",
      "102, set avr_flux = `awk '{sum=(sum+$2)/2} END {if (sum == 0) print \"0\"; else print \"1\"}' trim_obs`\n",
      "\n",
      "103, if ($avr_flux == 0) then\n",
      "\n",
      "104, set lam_min1    = '15740'\n",
      "\n",
      "105, set lam_max1    = '15800'\n",
      "\n",
      "106, endif\n",
      "\n",
      "107, \n",
      "\n",
      "108, #Halpha\n",
      "\n",
      "109, set lam_min2    = '6530'\n",
      "\n",
      "110, set lam_max2    = '6600'\n",
      "\n",
      "111, echo \"$lam_min2 $lam_max2 /tmp/${star}_obs\" | awk '{print \"awk '\\''{if (($1 > \"$1\") && ($1 < \"$2\")) print $0}'\\''\",$3}' | sh > trim_obs\n",
      "\n",
      "112, set avr_flux = `awk '{sum=(sum+$2)/2} END {if (sum == 0) print \"0\"; else print \"1\"}' trim_obs`\n",
      "\n",
      "113, if ($avr_flux == 0) then\n",
      "\n",
      "114, #Hbeta\n",
      "\n",
      "115, set lam_min2    = '4836'\n",
      "\n",
      "116, set lam_max2    = '4886'\n",
      "\n",
      "117, endif\n",
      "\n",
      "118, echo \"$lam_min2 $lam_max2 /tmp/${star}_obs\" | awk '{print \"awk '\\''{if (($1 > \"$1\") && ($1 < \"$2\")) print $0}'\\''\",$3}' | sh > trim_obs\n",
      "\n",
      "119, set avr_flux = `awk '{sum=(sum+$2)/2} END {if (sum == 0) print \"0\"; else print \"1\"}' trim_obs`\n",
      "\n",
      "120, if ($avr_flux == 0) then\n",
      "\n",
      "121, #Hgamma\n",
      "\n",
      "122, #set lam_min2    = '4315'\n",
      "\n",
      "123, #set lam_max2    = '4365'\n",
      "\n",
      "124, #endif\n",
      "\n",
      "125, #echo \"$lam_min2 $lam_max2 /tmp/${star}_obs\" | awk '{print \"awk '\\''{if (($1 > \"$1\") && ($1 < \"$2\")) print $0}'\\''\",$3}' | sh > trim_obs\n",
      "\n",
      "126, #set avr_flux = `awk '{sum=(sum+$2)/2} END {if (sum == 0) print \"0\"; else print \"1\"}' trim_obs`\n",
      "\n",
      "127, #if ($avr_flux == 0) then\n",
      "\n",
      "128, # Ca triplet part 2\n",
      "\n",
      "129, #set lam_min2    = '8517'\n",
      "\n",
      "130, #set lam_max2    = '8567'\n",
      "\n",
      "131, #endif\n",
      "\n",
      "132, #echo \"$lam_min2 $lam_max2 /tmp/${star}_obs\" | awk '{print \"awk '\\''{if (($1 > \"$1\") && ($1 < \"$2\")) print $0}'\\''\",$3}' | sh > trim_obs\n",
      "\n",
      "133, #set avr_flux = `awk '{sum=(sum+$2)/2} END {if (sum == 0) print \"0\"; else print \"1\"}' trim_obs`\n",
      "\n",
      "134, #if ($avr_flux == 0) then\n",
      "\n",
      "135, #H band\n",
      "\n",
      "136, #set lam_min2    = '16776'\n",
      "\n",
      "137, #set lam_max2    = '16836'\n",
      "\n",
      "138, #endif\n",
      "\n",
      "139, #Fe I\n",
      "\n",
      "140, #set lam_min2    = '8277'\n",
      "\n",
      "141, #set lam_max2    = '8305'\n",
      "\n",
      "142, #Na doublet\n",
      "\n",
      "143, #set lam_min2    = '8178'\n",
      "\n",
      "144, #set lam_max2    = '8200'\n",
      "\n",
      "145, \n",
      "\n",
      "146, set Li =  '2.32'\n",
      "\n",
      "147, set C12C13 = '90'\n",
      "\n",
      "148, set N14N15 = '330'\n",
      "\n",
      "149, foreach element ( C N O F Na Mg Al Si P S Cl K Ca Sc Ti V Cr Mn Co Ni Fe )\n",
      "\n",
      "150, set $element = ` awk '/'$element' /{print $2+'$METALLIC'+'${alpha}'*$5}' ${solabufile}`\n",
      "\n",
      "151, end\n",
      "\n",
      "152, \n",
      "\n",
      "153, foreach element ( Cu Zn Ga Ge As Rb Sr Y Zr Nb Mo Ru Rh Pd Ag Cd In Sn Sb Ba La Ce  Pr Nd Sm Eu Gd Tb Dy Ho Er Tm Yb Lu Hf Ta W  Re Os Ir Pt Au Tl Pb Bi Th U )\n",
      "\n",
      "154, set $element = ` awk '/'$element' /{print log(10^'${r_process}'*$3*10^($2+'$METALLIC')+10^'${s_process}'*$4*10^($2+'${METALLIC}'))/log(10)+'${alpha}'*$5}' ${solabufile}`\n",
      "\n",
      "155, end\n",
      "\n",
      "156, \n",
      "\n",
      "157, \n",
      "\n",
      "158, rm -f trim_obs\n",
      "\n"
     ]
    }
   ],
   "source": [
    "# bacchus.linelists.display_all_linelists()\n",
    "\n",
    "linelist = 'APOGEE/2018_09_01/turbomolec.20180901.txt'\n",
    "bacchus.init.show()"
   ]
  },
  {
   "cell_type": "code",
   "execution_count": 5,
   "id": "510b98f1-84b1-4f73-9b92-a3179ee8fa85",
   "metadata": {},
   "outputs": [],
   "source": [
    "bacchus.init.set_waveref_file('elements.wln')\n",
    "bacchus.init.set_linelist(linelist)\n",
    "bacchus.init.set_ncpu(1)"
   ]
  },
  {
   "cell_type": "code",
   "execution_count": 6,
   "id": "bcbd17a4-6ec3-4aed-ab6f-cc614fc4ab6e",
   "metadata": {
    "scrolled": true
   },
   "outputs": [],
   "source": [
    "# bacchus.bsyn.show()"
   ]
  },
  {
   "cell_type": "code",
   "execution_count": 7,
   "id": "6745b932-37a9-4b8c-8cc4-e3546467cabb",
   "metadata": {},
   "outputs": [],
   "source": [
    "# bacchus.init.write()"
   ]
  },
  {
   "cell_type": "code",
   "execution_count": 8,
   "id": "3122c426-1cd4-4d53-95dc-40de3f6940c0",
   "metadata": {
    "scrolled": true
   },
   "outputs": [],
   "source": [
    "# bacchus.init.show()"
   ]
  },
  {
   "cell_type": "code",
   "execution_count": 9,
   "id": "c9807601-5fca-4fcd-9caf-3c1f430483e4",
   "metadata": {},
   "outputs": [],
   "source": [
    "#  spectra_path, teff, logg, m_h, v_micro, conv\n",
    "star.set_initial_values(spectra_path, (5000,100), (4.5, 0.1), (0,0.1),(1.5,0.2), (-15,5))"
   ]
  },
  {
   "cell_type": "code",
   "execution_count": 10,
   "id": "b328538f-44b1-4a49-be95-a8cc55879a99",
   "metadata": {},
   "outputs": [
    {
     "name": "stdout",
     "output_type": "stream",
     "text": [
      "entry already added!\n"
     ]
    }
   ],
   "source": [
    "bacchus.stellar_parameters.add_star(star)"
   ]
  },
  {
   "cell_type": "code",
   "execution_count": 11,
   "id": "6b4a58a3-c564-4afb-b452-cae0bd9f814d",
   "metadata": {},
   "outputs": [
    {
     "name": "stdout",
     "output_type": "stream",
     "text": [
      "0, # starname                  obsfile               Teff   logg    [Fe/H] microt   convol  rv\n",
      "\n",
      "1, Sun     \texamples/Sun-rv.asc     \t5777\t4.44\t0.00\t1.1\t-4\t0\n",
      "\n",
      "2, Arcturus \texamples/Arcturus-rv.asc\t4277\t1.58\t-0.55\t0\t-5.2\t0\n",
      "\n",
      "3, HD38230 \t/mnt/Primary/astroHome/nmyers/data/tba/keck/jan/standards/HD38230_all_2024-02-25.2.txt\t5118\t4.47\t-0.09\t0.69\t-4\t0\n",
      "\n",
      "4, sdss_id_55749319\t/uufs/chpc.utah.edu/common/home/astro/zasowski/sinha/spectra/sdss_id_55749319.txt\t5000\t4.5\t0\t1.5\t-15\t0\n",
      "\n",
      "5, sdss_id_77512762\t/uufs/chpc.utah.edu/common/home/astro/zasowski/sinha/spectra/sdss_id_77512762.txt\t5000\t4.5\t0\t1.5\t-15\t0\n",
      "\n"
     ]
    }
   ],
   "source": [
    "bacchus.stellar_parameters.show()"
   ]
  },
  {
   "cell_type": "code",
   "execution_count": 12,
   "id": "1aca89e3-1f1b-4258-805c-b57484f7624e",
   "metadata": {},
   "outputs": [
    {
     "name": "stdout",
     "output_type": "stream",
     "text": [
      "0, # starname                  obsfile               Teff   logg    [Fe/H] microt   convol  rv\n",
      "\n",
      "1, Sun     \texamples/Sun-rv.asc     \t5777\t4.44\t0.00\t1.1\t-4\t0\n",
      "\n",
      "2, Arcturus \texamples/Arcturus-rv.asc\t4277\t1.58\t-0.55\t0\t-5.2\t0\n",
      "\n",
      "3, HD38230 \t/mnt/Primary/astroHome/nmyers/data/tba/keck/jan/standards/HD38230_all_2024-02-25.2.txt\t5118\t4.47\t-0.09\t0.69\t-4\t0\n",
      "\n",
      "4, sdss_id_55749319\t/uufs/chpc.utah.edu/common/home/astro/zasowski/sinha/spectra/sdss_id_55749319.txt\t5000\t4.5\t0\t1.5\t-15\t0\n",
      "\n",
      "5, sdss_id_77512762\t/uufs/chpc.utah.edu/common/home/astro/zasowski/sinha/spectra/sdss_id_77512762.txt\t5000\t4.5\t0\t1.5\t-15\t0\n",
      "\n"
     ]
    }
   ],
   "source": [
    "bacchus.stellar_parameters.write()\n",
    "bacchus.stellar_parameters.read()\n",
    "bacchus.stellar_parameters.show()"
   ]
  },
  {
   "cell_type": "code",
   "execution_count": 13,
   "id": "5487460b-7a05-42f9-b47a-2927c9204ca2",
   "metadata": {},
   "outputs": [
    {
     "name": "stderr",
     "output_type": "stream",
     "text": [
      "unsetenv: Missing ']'.\n"
     ]
    },
    {
     "name": "stdout",
     "output_type": "stream",
     "text": [
      "create directory sdss_id_77512762\n",
      "observed spectrum is: /uufs/chpc.utah.edu/common/home/astro/zasowski/sinha/spectra/sdss_id_77512762.txt\n",
      "parameters will be read from stellar_parameters.tab\n",
      "create directory sdss_id_77512762/models\n",
      "stellar parameters selected (Teff,logg,[Fe/H],microturb): 5000 4.50 0.00 1.50\n",
      "create now stellar parameter files for sdss_id_77512762\n",
      "sdss_id_77512762/sdss_id_77512762.par\n"
     ]
    },
    {
     "name": "stderr",
     "output_type": "stream",
     "text": [
      "mv: cannot stat 'interpol_check.ps': No such file or directory\n"
     ]
    }
   ],
   "source": [
    "bacchus.load_parameters(star)"
   ]
  },
  {
   "cell_type": "code",
   "execution_count": 15,
   "id": "5f42e6b4-9ac9-4a1c-9374-cdf0d9680b2e",
   "metadata": {
    "scrolled": true
   },
   "outputs": [
    {
     "name": "stdout",
     "output_type": "stream",
     "text": [
      "sdss_id_77512762's parameters loaded\n",
      "Fe lines observed:\n",
      "15207.5 15245.0 15293.1 15294.6 15394.7 15500.8 15501.3 15531.8 15534.2 15588.3 15591.5 15604.2 15621.7 15632.0 15662.0 15723.6 15769.1 15769.4 15770.6 15774.1 15895.2 15904.3 15920.6 15964.9 15967.7 15980.7 16006.8 16007.1 16008.1 16040.7 16042.7 16071.4 16125.9 16153.2 16165.0 16179.6 16195.1 16284.8 16316.3 16517.2 16524.5 16561.8 16645.9 16665.5\n",
      "compute synthetic spectra for log(Fe)=(6.85 7.15 7.45 7.75 8.05) at\n",
      "15207.5 15245.0 15293.1 15294.6 15394.7 15500.8 15501.3 15531.8 15534.2 15588.3 15591.5 15604.2 15621.7 15632.0 15662.0 15723.6 15769.1 15769.4 15770.6 15774.1 15895.2 15904.3 15920.6 15964.9 15967.7 15980.7 16006.8 16007.1 16008.1 16040.7 16042.7 16071.4 16125.9 16153.2 16165.0 16179.6 16195.1 16284.8 16316.3 16517.2 16524.5 16561.8 16645.9 16665.5\n",
      "compute continuous opacities first for each abundance\n",
      "15187.5 - 16685.5 A\n",
      "[1] 3418485\n",
      "[2] 3418490\n",
      "[3] 3418495\n",
      "[4] 3418506\n",
      "[5] 3418524\n"
     ]
    },
    {
     "name": "stderr",
     "output_type": "stream",
     "text": [
      "[5]  - Done                          source babsma.com\n",
      "[2]    Done                          source babsma.com\n",
      "[4]  + Done                          source babsma.com\n",
      "[1]  - Done                          source babsma.com\n",
      "[3]  + Done                          source babsma.com\n"
     ]
    },
    {
     "name": "stdout",
     "output_type": "stream",
     "text": [
      "[1] 3418603\n",
      "[2] 3418613\n",
      "[3] 3418626\n",
      "[4] 3418644\n",
      "[5] 3418662\n"
     ]
    },
    {
     "name": "stderr",
     "output_type": "stream",
     "text": [
      "mv: cannot stat 'syntspec/5000g4.50z0.00_sdss_id_77512762.int_m0_t1.50_15207-16665_Fe6.85_temp.convol': No such file or directory\n",
      "mv: cannot stat 'syntspec/5000g4.50z0.00_sdss_id_77512762.int_m0_t1.50_15207-16665_Fe7.15_temp.convol': No such file or directory\n",
      "mv: cannot stat 'syntspec/5000g4.50z0.00_sdss_id_77512762.int_m0_t1.50_15207-16665_Fe8.05_temp.convol': No such file or directory\n",
      "mv: cannot stat 'syntspec/5000g4.50z0.00_sdss_id_77512762.int_m0_t1.50_15207-16665_Fe7.75_temp.convol': No such file or directory\n",
      "mv: cannot stat 'syntspec/5000g4.50z0.00_sdss_id_77512762.int_m0_t1.50_15207-16665_Fe7.45_temp.convol': No such file or directory\n"
     ]
    },
    {
     "name": "stdout",
     "output_type": "stream",
     "text": [
      "something went wrong with bsyn\n"
     ]
    },
    {
     "name": "stderr",
     "output_type": "stream",
     "text": [
      "[5]  - Done                          source bsyn.com\n",
      "[4]  + Done                          source bsyn.com\n",
      "[3]  + Done                          source bsyn.com\n",
      "[2]  + Done                          source bsyn.com\n",
      "[1]  + Done                          source bsyn.com\n"
     ]
    }
   ],
   "source": [
    "bacchus.abund(star)"
   ]
  },
  {
   "cell_type": "code",
   "execution_count": 17,
   "id": "d5cc17e7-1ef1-48ba-bdfb-9953e48eb34c",
   "metadata": {
    "scrolled": true
   },
   "outputs": [
    {
     "data": {
      "text/plain": [
       "1"
      ]
     },
     "execution_count": 17,
     "metadata": {},
     "output_type": "execute_result"
    }
   ],
   "source": [
    "bacchus.init.alllines_list"
   ]
  },
  {
   "cell_type": "code",
   "execution_count": null,
   "id": "fcae9a28-3f08-414a-aa17-6f53eafad679",
   "metadata": {},
   "outputs": [],
   "source": []
  }
 ],
 "metadata": {
  "kernelspec": {
   "display_name": "Python 3 (ipykernel)",
   "language": "python",
   "name": "python3"
  },
  "language_info": {
   "codemirror_mode": {
    "name": "ipython",
    "version": 3
   },
   "file_extension": ".py",
   "mimetype": "text/x-python",
   "name": "python",
   "nbconvert_exporter": "python",
   "pygments_lexer": "ipython3",
   "version": "3.12.5"
  }
 },
 "nbformat": 4,
 "nbformat_minor": 5
}
